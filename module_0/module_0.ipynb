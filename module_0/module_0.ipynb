{
 "cells": [
  {
   "cell_type": "code",
   "execution_count": 7,
   "metadata": {},
   "outputs": [
    {
     "data": {
      "text/plain": [
       "4.591836734693878"
      ]
     },
     "execution_count": 7,
     "metadata": {},
     "output_type": "execute_result"
    }
   ],
   "source": [
    "import numpy\n",
    "def ugadaika():\n",
    "    import numpy\n",
    "   # print('введите от какого до какого числа загадываем, вводим только числа иначе не заработает, сперва от:')\n",
    "    a=int(1)\n",
    "    #print('теперь до:')\n",
    "    b=int(100)\n",
    "    number = numpy.random.randint(a,b+1)    # загадали число\n",
    "    #print (\"Загадано число от\",a, \"до\",b)\n",
    "    count = 0\n",
    "    i=(b)/2\n",
    "   # print(i,\"загадали\",number)\n",
    "    while i != number:\n",
    "        count+=1\n",
    "        #print(count,i,number)\n",
    "        if number>i:\n",
    "                i+=round(b/(2**(count+1)))\n",
    "        elif number<i:\n",
    "                i-=round(b/(2**(count+1)))\n",
    "        else:\n",
    "            #Print(count,i)\n",
    "            break\n",
    "    return count\n",
    "\n",
    "a=[]\n",
    "for i in range(1,50):\n",
    "    a.append(ugadaika())\n",
    "numpy.mean(a)"
   ]
  },
  {
   "cell_type": "code",
   "execution_count": null,
   "metadata": {},
   "outputs": [],
   "source": []
  },
  {
   "cell_type": "code",
   "execution_count": null,
   "metadata": {},
   "outputs": [],
   "source": []
  }
 ],
 "metadata": {
  "kernelspec": {
   "display_name": "Python 3",
   "language": "python",
   "name": "python3"
  },
  "language_info": {
   "codemirror_mode": {
    "name": "ipython",
    "version": 3
   },
   "file_extension": ".py",
   "mimetype": "text/x-python",
   "name": "python",
   "nbconvert_exporter": "python",
   "pygments_lexer": "ipython3",
   "version": "3.7.3"
  }
 },
 "nbformat": 4,
 "nbformat_minor": 2
}
